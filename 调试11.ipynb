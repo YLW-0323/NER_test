{
 "cells": [
  {
   "cell_type": "code",
   "execution_count": 17,
   "id": "8292a7b1",
   "metadata": {},
   "outputs": [],
   "source": [
    "from mat2vec.processing import MaterialsTextProcessor\n",
    "from os import path\n",
    "from scipy import spatial\n",
    "\n",
    "from chemdataextractor.doc import Document, Heading, Paragraph\n",
    "from chemdataextractor.nlp.tokenize import ChemWordTokenizer\n",
    "\n",
    "from gensim.models import Word2Vec\n",
    "from gensim.models import word2vec\n",
    "from gensim.models.word2vec import LineSentence\n",
    "\n",
    "from sklearn import metrics\n",
    "from sklearn.cluster import DBSCAN\n",
    "from sklearn.manifold import TSNE\n",
    "\n",
    "import matplotlib.pyplot as plt\n",
    "import pandas as pd\n",
    "import regex"
   ]
  },
  {
   "cell_type": "code",
   "execution_count": 18,
   "id": "8211284e",
   "metadata": {},
   "outputs": [],
   "source": [
    "Path = './Project/调试11/'"
   ]
  },
  {
   "cell_type": "markdown",
   "id": "22c566d0",
   "metadata": {},
   "source": [
    "# 预处理"
   ]
  },
  {
   "cell_type": "code",
   "execution_count": 20,
   "id": "ab87f4ce",
   "metadata": {
    "scrolled": true
   },
   "outputs": [
    {
     "data": {
      "text/html": [
       "<div>\n",
       "<style scoped>\n",
       "    .dataframe tbody tr th:only-of-type {\n",
       "        vertical-align: middle;\n",
       "    }\n",
       "\n",
       "    .dataframe tbody tr th {\n",
       "        vertical-align: top;\n",
       "    }\n",
       "\n",
       "    .dataframe thead th {\n",
       "        text-align: right;\n",
       "    }\n",
       "</style>\n",
       "<table border=\"1\" class=\"dataframe\">\n",
       "  <thead>\n",
       "    <tr style=\"text-align: right;\">\n",
       "      <th></th>\n",
       "      <th>Abstract</th>\n",
       "    </tr>\n",
       "  </thead>\n",
       "  <tbody>\n",
       "    <tr>\n",
       "      <th>0</th>\n",
       "      <td>This work proposes an improvement of gold nano...</td>\n",
       "    </tr>\n",
       "    <tr>\n",
       "      <th>1</th>\n",
       "      <td>Carbon monoxide has been recognized relatively...</td>\n",
       "    </tr>\n",
       "    <tr>\n",
       "      <th>2</th>\n",
       "      <td>Two luminescent coordination polymers were con...</td>\n",
       "    </tr>\n",
       "    <tr>\n",
       "      <th>3</th>\n",
       "      <td>We have identified a ligand (CO) accommodation...</td>\n",
       "    </tr>\n",
       "    <tr>\n",
       "      <th>4</th>\n",
       "      <td>Electronic sensors capable of capturing mechan...</td>\n",
       "    </tr>\n",
       "  </tbody>\n",
       "</table>\n",
       "</div>"
      ],
      "text/plain": [
       "                                            Abstract\n",
       "0  This work proposes an improvement of gold nano...\n",
       "1  Carbon monoxide has been recognized relatively...\n",
       "2  Two luminescent coordination polymers were con...\n",
       "3  We have identified a ligand (CO) accommodation...\n",
       "4  Electronic sensors capable of capturing mechan..."
      ]
     },
     "execution_count": 20,
     "metadata": {},
     "output_type": "execute_result"
    }
   ],
   "source": [
    "Data =pd.read_csv(Path + 'Data.txt', header  = None, names = ['Abstract'])\n",
    "Df = pd.DataFrame(Data['Abstract'])\n",
    "Lists_Data = Df.values.tolist()\n",
    "Data.head()"
   ]
  },
  {
   "cell_type": "code",
   "execution_count": 22,
   "id": "6348daca",
   "metadata": {},
   "outputs": [],
   "source": [
    "ELEMENTS = [\"H\", \"He\", \"Li\", \"Be\", \"B\", \"C\", \"N\", \"O\", \"F\", \"Ne\", \"Na\", \"Mg\", \"Al\", \"Si\", \"P\", \"S\", \"Cl\", \"Ar\", \"K\",\n",
    "                \"Ca\", \"Sc\", \"Ti\", \"V\", \"Cr\", \"Mn\", \"Fe\", \"Co\", \"Ni\", \"Cu\", \"Zn\", \"Ga\", \"Ge\", \"As\", \"Se\", \"Br\", \"Kr\",\n",
    "                \"Rb\", \"Sr\", \"Y\", \"Zr\", \"Nb\", \"Mo\", \"Tc\", \"Ru\", \"Rh\", \"Pd\", \"Ag\", \"Cd\", \"In\", \"Sn\", \"Sb\", \"Te\", \"I\",\n",
    "                \"Xe\", \"Cs\", \"Ba\", \"La\", \"Ce\", \"Pr\", \"Nd\", \"Pm\", \"Sm\", \"Eu\", \"Gd\", \"Tb\", \"Dy\", \"Ho\", \"Er\", \"Tm\", \"Yb\",\n",
    "                \"Lu\", \"Hf\", \"Ta\", \"W\", \"Re\", \"Os\", \"Ir\", \"Pt\", \"Au\", \"Hg\", \"Tl\", \"Pb\", \"Bi\", \"Po\", \"At\", \"Rn\", \"Fr\",\n",
    "                \"Ra\", \"Ac\", \"Th\", \"Pa\", \"U\", \"Np\", \"Pu\", \"Am\", \"Cm\", \"Bk\", \"Cf\", \"Es\", \"Fm\", \"Md\", \"No\", \"Lr\", \"Rf\",\n",
    "                \"Db\", \"Sg\", \"Bh\", \"Hs\", \"Mt\", \"Ds\", \"Rg\", \"Cn\", \"Nh\", \"Fl\", \"Mc\", \"Lv\", \"Ts\", \"Og\", \"Uue\"]\n",
    "#ELEMENTS\n",
    "ELEMENTS_LOW = []\n",
    "for ELEMENT in ELEMENTS:\n",
    "    ELEMENT_LOW = ELEMENT.lower()\n",
    "    ELEMENTS_LOW.append(ELEMENT_LOW)\n",
    "ELEMENTS_LOW_ION = regex.compile(r\"^(\"+r\"|\".join(ELEMENTS_LOW) + r\")(\\(?\\d*[+-]\\)?)$\")"
   ]
  },
  {
   "cell_type": "code",
   "execution_count": 23,
   "id": "d69dc91e",
   "metadata": {},
   "outputs": [],
   "source": [
    "F_Data_handle = open(Path + 'Data_Phrases.txt', 'w', encoding='utf-8')\n",
    "text_processor = MaterialsTextProcessor()\n",
    "\n",
    "processed = []\n",
    "for List_Data in Lists_Data:\n",
    "    List_Data_str = ''.join('%s' %i for i in List_Data)\n",
    "    Paras = Paragraph(List_Data_str)\n",
    "    for Sentence in Paras:\n",
    "        Sentence_handel = text_processor.process(str(Sentence),normalize_materials=False)\n",
    "        Tokens = Sentence_handel[0]\n",
    "        for Token in Tokens:\n",
    "            if ELEMENTS_LOW_ION.match(Token) is not None:\n",
    "                Token = Token.capitalize()\n",
    "            processed.append(Token)\n",
    "\n",
    "Sentence_phrases = text_processor.make_phrases(processed,reps=1)\n",
    "for Token in Sentence_phrases:\n",
    "    F_Data_handle.write(str(Token) + ' ')\n",
    "F_Data_handle.close()"
   ]
  },
  {
   "cell_type": "markdown",
   "id": "833fd72b",
   "metadata": {},
   "source": [
    "# 提取化学式"
   ]
  },
  {
   "cell_type": "code",
   "execution_count": 16,
   "id": "77c1a1da",
   "metadata": {},
   "outputs": [],
   "source": [
    "F_Data_handle = open(Path + 'Data_Phrases.txt', 'r', encoding = 'utf-8')\n",
    "F_Cems = open(Path + 'Cems.txt', 'w', encoding = 'utf-8')\n",
    "F_Tmps = open(Path + 'Tmp.txt', 'w', encoding = 'utf-8')\n",
    "\n",
    "Cems_handle = []\n",
    "\n",
    "Data_handle = ''.join('%s' %i for i in F_Data_handle)\n",
    "Sentences = Paragraph(Data_handle)\n",
    "Cems = Sentences.cems\n",
    "for Cem in Cems:\n",
    "    F_Cems.write(str(Cem) + '\\n')\n",
    "F_Cems.close()\n",
    "\n",
    "F_Cems = open(Path + 'Cems.txt', 'r', encoding = 'utf-8')\n",
    "Cems_tmp = []\n",
    "for Lines in F_Cems:\n",
    "    Lines_handle = Lines.strip('\\n').split('/')\n",
    "    for Line_handle in Lines_handle:\n",
    "        if not Line_handle in Cems_tmp:\n",
    "            Cems_tmp.append(Line_handle)\n",
    "            F_Tmps.write(Line_handle + '\\n')\n",
    "F_Data_handle.close()\n",
    "\n",
    "F_Tmps.close()"
   ]
  },
  {
   "cell_type": "markdown",
   "id": "9c84630c",
   "metadata": {},
   "source": [
    "# 训练word2vec模型"
   ]
  },
  {
   "cell_type": "code",
   "execution_count": 8,
   "id": "5dae367b",
   "metadata": {},
   "outputs": [],
   "source": [
    "Data_word2vec = word2vec.LineSentence(Path + 'Data_Phrases.txt')\n",
    "Model = Word2Vec(Data_word2vec, vector_size = 200, sg=1, window = 8, negative = 15, alpha = 0.01,epochs = 5, min_count =1)\n",
    "Model.save(Path + 'wod2vec.model')"
   ]
  },
  {
   "cell_type": "code",
   "execution_count": 31,
   "id": "6c3dbf82",
   "metadata": {},
   "outputs": [],
   "source": [
    "Model = Word2Vec.load(Path + 'wod2vec.model')\n",
    "\n",
    "words = Model.wv.index_to_key\n",
    "#print(words)\n",
    "\n",
    "tmp = [val for val in Cems_tmp if val in words]\n",
    "#print(tmp)"
   ]
  },
  {
   "cell_type": "code",
   "execution_count": 33,
   "id": "fdac5c26",
   "metadata": {},
   "outputs": [],
   "source": [
    "T = []\n",
    "Y = []\n",
    "\n",
    "for x in tmp:\n",
    "    y = Model.wv.similarity(u\"gas\",x)\n",
    "    T.append(str(x))\n",
    "    Y.append(str(y))\n",
    "df = pd.DataFrame({'化学式':T,'相关度':Y})\n",
    "df.to_csv(Path + 'gas.csv',index=False,sep=',')"
   ]
  },
  {
   "cell_type": "code",
   "execution_count": null,
   "id": "bc2d8c39",
   "metadata": {},
   "outputs": [],
   "source": [
    "gas_sensor"
   ]
  }
 ],
 "metadata": {
  "kernelspec": {
   "display_name": "Python 3 (ipykernel)",
   "language": "python",
   "name": "python3"
  },
  "language_info": {
   "codemirror_mode": {
    "name": "ipython",
    "version": 3
   },
   "file_extension": ".py",
   "mimetype": "text/x-python",
   "name": "python",
   "nbconvert_exporter": "python",
   "pygments_lexer": "ipython3",
   "version": "3.8.2"
  }
 },
 "nbformat": 4,
 "nbformat_minor": 5
}
